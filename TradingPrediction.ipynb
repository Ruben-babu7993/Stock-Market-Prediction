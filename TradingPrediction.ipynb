{
 "cells": [
  {
   "cell_type": "code",
   "execution_count": 20,
   "id": "7253bc82-31b8-40d4-b805-4af09846426e",
   "metadata": {},
   "outputs": [],
   "source": [
    "import pandas as pd\n",
    "import numpy as np\n",
    "import seaborn as sns\n",
    "import matplotlib.pyplot as plt"
   ]
  },
  {
   "cell_type": "code",
   "execution_count": 21,
   "id": "5492f9c4-767d-49d5-9bca-f7207554fc03",
   "metadata": {},
   "outputs": [],
   "source": [
    "df=pd.read_csv('TRADES_CopyTr_90D_ROI.csv')\n"
   ]
  },
  {
   "cell_type": "code",
   "execution_count": 22,
   "id": "18dd9c3d-b568-47a0-b7a5-31e51d3b4cb3",
   "metadata": {},
   "outputs": [
    {
     "data": {
      "text/html": [
       "<div>\n",
       "<style scoped>\n",
       "    .dataframe tbody tr th:only-of-type {\n",
       "        vertical-align: middle;\n",
       "    }\n",
       "\n",
       "    .dataframe tbody tr th {\n",
       "        vertical-align: top;\n",
       "    }\n",
       "\n",
       "    .dataframe thead th {\n",
       "        text-align: right;\n",
       "    }\n",
       "</style>\n",
       "<table border=\"1\" class=\"dataframe\">\n",
       "  <thead>\n",
       "    <tr style=\"text-align: right;\">\n",
       "      <th></th>\n",
       "      <th>Port_IDs</th>\n",
       "      <th>Trade_History</th>\n",
       "    </tr>\n",
       "  </thead>\n",
       "  <tbody>\n",
       "    <tr>\n",
       "      <th>0</th>\n",
       "      <td>3925368433214965504</td>\n",
       "      <td>[{'time': 1718899656000, 'symbol': 'SOLUSDT', ...</td>\n",
       "    </tr>\n",
       "    <tr>\n",
       "      <th>1</th>\n",
       "      <td>4002413037164645377</td>\n",
       "      <td>[{'time': 1718980078000, 'symbol': 'NEARUSDT',...</td>\n",
       "    </tr>\n",
       "    <tr>\n",
       "      <th>2</th>\n",
       "      <td>3923766029921022977</td>\n",
       "      <td>[{'time': 1718677164000, 'symbol': 'ETHUSDT', ...</td>\n",
       "    </tr>\n",
       "    <tr>\n",
       "      <th>3</th>\n",
       "      <td>3994879592543698688</td>\n",
       "      <td>[{'time': 1718678214000, 'symbol': 'ETHUSDT', ...</td>\n",
       "    </tr>\n",
       "    <tr>\n",
       "      <th>4</th>\n",
       "      <td>3926423286576838657</td>\n",
       "      <td>[{'time': 1718979615000, 'symbol': 'ETHUSDT', ...</td>\n",
       "    </tr>\n",
       "  </tbody>\n",
       "</table>\n",
       "</div>"
      ],
      "text/plain": [
       "              Port_IDs                                      Trade_History\n",
       "0  3925368433214965504  [{'time': 1718899656000, 'symbol': 'SOLUSDT', ...\n",
       "1  4002413037164645377  [{'time': 1718980078000, 'symbol': 'NEARUSDT',...\n",
       "2  3923766029921022977  [{'time': 1718677164000, 'symbol': 'ETHUSDT', ...\n",
       "3  3994879592543698688  [{'time': 1718678214000, 'symbol': 'ETHUSDT', ...\n",
       "4  3926423286576838657  [{'time': 1718979615000, 'symbol': 'ETHUSDT', ..."
      ]
     },
     "execution_count": 22,
     "metadata": {},
     "output_type": "execute_result"
    }
   ],
   "source": [
    "df.head()"
   ]
  },
  {
   "cell_type": "code",
   "execution_count": 23,
   "id": "50f89742-51b1-4972-87aa-7c8d407a6b84",
   "metadata": {},
   "outputs": [
    {
     "name": "stdout",
     "output_type": "stream",
     "text": [
      "<class 'pandas.core.frame.DataFrame'>\n",
      "RangeIndex: 150 entries, 0 to 149\n",
      "Data columns (total 2 columns):\n",
      " #   Column         Non-Null Count  Dtype \n",
      "---  ------         --------------  ----- \n",
      " 0   Port_IDs       150 non-null    int64 \n",
      " 1   Trade_History  149 non-null    object\n",
      "dtypes: int64(1), object(1)\n",
      "memory usage: 2.5+ KB\n"
     ]
    }
   ],
   "source": [
    "df.info()"
   ]
  },
  {
   "cell_type": "code",
   "execution_count": 24,
   "id": "414f60bf-1e47-457c-98a2-2dc72327c6a7",
   "metadata": {},
   "outputs": [
    {
     "data": {
      "text/plain": [
       "(150, 2)"
      ]
     },
     "execution_count": 24,
     "metadata": {},
     "output_type": "execute_result"
    }
   ],
   "source": [
    "df.shape"
   ]
  },
  {
   "cell_type": "code",
   "execution_count": 25,
   "id": "3ca6cd62-d411-4f9f-bba4-b3cbfcd18d14",
   "metadata": {},
   "outputs": [
    {
     "data": {
      "text/plain": [
       "Port_IDs         0\n",
       "Trade_History    1\n",
       "dtype: int64"
      ]
     },
     "execution_count": 25,
     "metadata": {},
     "output_type": "execute_result"
    }
   ],
   "source": [
    "df.isnull().sum()"
   ]
  },
  {
   "cell_type": "code",
   "execution_count": 26,
   "id": "0ddf28ae-3256-4c5f-aa07-2b677a94f9af",
   "metadata": {},
   "outputs": [],
   "source": [
    "df=df.drop(columns=['Trade_History'],axis=1)"
   ]
  },
  {
   "cell_type": "code",
   "execution_count": 27,
   "id": "c6cc657c-0926-461d-9a31-79e861d2d9f4",
   "metadata": {},
   "outputs": [
    {
     "data": {
      "text/plain": [
       "Port_IDs    0\n",
       "dtype: int64"
      ]
     },
     "execution_count": 27,
     "metadata": {},
     "output_type": "execute_result"
    }
   ],
   "source": [
    "df.isnull().sum()"
   ]
  },
  {
   "cell_type": "code",
   "execution_count": 28,
   "id": "ab55e763-d550-4f9c-8394-aafe6c4a6f6e",
   "metadata": {},
   "outputs": [
    {
     "data": {
      "text/html": [
       "<div>\n",
       "<style scoped>\n",
       "    .dataframe tbody tr th:only-of-type {\n",
       "        vertical-align: middle;\n",
       "    }\n",
       "\n",
       "    .dataframe tbody tr th {\n",
       "        vertical-align: top;\n",
       "    }\n",
       "\n",
       "    .dataframe thead th {\n",
       "        text-align: right;\n",
       "    }\n",
       "</style>\n",
       "<table border=\"1\" class=\"dataframe\">\n",
       "  <thead>\n",
       "    <tr style=\"text-align: right;\">\n",
       "      <th></th>\n",
       "      <th>Port_IDs</th>\n",
       "    </tr>\n",
       "  </thead>\n",
       "  <tbody>\n",
       "    <tr>\n",
       "      <th>count</th>\n",
       "      <td>1.500000e+02</td>\n",
       "    </tr>\n",
       "    <tr>\n",
       "      <th>mean</th>\n",
       "      <td>3.975655e+18</td>\n",
       "    </tr>\n",
       "    <tr>\n",
       "      <th>std</th>\n",
       "      <td>6.887470e+16</td>\n",
       "    </tr>\n",
       "    <tr>\n",
       "      <th>min</th>\n",
       "      <td>3.672755e+18</td>\n",
       "    </tr>\n",
       "    <tr>\n",
       "      <th>25%</th>\n",
       "      <td>3.943672e+18</td>\n",
       "    </tr>\n",
       "    <tr>\n",
       "      <th>50%</th>\n",
       "      <td>3.998616e+18</td>\n",
       "    </tr>\n",
       "    <tr>\n",
       "      <th>75%</th>\n",
       "      <td>4.029508e+18</td>\n",
       "    </tr>\n",
       "    <tr>\n",
       "      <th>max</th>\n",
       "      <td>4.041860e+18</td>\n",
       "    </tr>\n",
       "  </tbody>\n",
       "</table>\n",
       "</div>"
      ],
      "text/plain": [
       "           Port_IDs\n",
       "count  1.500000e+02\n",
       "mean   3.975655e+18\n",
       "std    6.887470e+16\n",
       "min    3.672755e+18\n",
       "25%    3.943672e+18\n",
       "50%    3.998616e+18\n",
       "75%    4.029508e+18\n",
       "max    4.041860e+18"
      ]
     },
     "execution_count": 28,
     "metadata": {},
     "output_type": "execute_result"
    }
   ],
   "source": [
    "df.describe()"
   ]
  },
  {
   "cell_type": "code",
   "execution_count": 29,
   "id": "2db7227b-f682-4c33-b1b6-e86df8e10de3",
   "metadata": {},
   "outputs": [],
   "source": [
    "df.fillna(0,inplace=True)"
   ]
  },
  {
   "cell_type": "code",
   "execution_count": 30,
   "id": "6db3bb1c-db9e-422f-9b04-0e5da648a2d8",
   "metadata": {},
   "outputs": [
    {
     "data": {
      "text/html": [
       "<div>\n",
       "<style scoped>\n",
       "    .dataframe tbody tr th:only-of-type {\n",
       "        vertical-align: middle;\n",
       "    }\n",
       "\n",
       "    .dataframe tbody tr th {\n",
       "        vertical-align: top;\n",
       "    }\n",
       "\n",
       "    .dataframe thead th {\n",
       "        text-align: right;\n",
       "    }\n",
       "</style>\n",
       "<table border=\"1\" class=\"dataframe\">\n",
       "  <thead>\n",
       "    <tr style=\"text-align: right;\">\n",
       "      <th></th>\n",
       "      <th>Port_IDs</th>\n",
       "    </tr>\n",
       "  </thead>\n",
       "  <tbody>\n",
       "    <tr>\n",
       "      <th>0</th>\n",
       "      <td>3925368433214965504</td>\n",
       "    </tr>\n",
       "    <tr>\n",
       "      <th>1</th>\n",
       "      <td>4002413037164645377</td>\n",
       "    </tr>\n",
       "    <tr>\n",
       "      <th>2</th>\n",
       "      <td>3923766029921022977</td>\n",
       "    </tr>\n",
       "    <tr>\n",
       "      <th>3</th>\n",
       "      <td>3994879592543698688</td>\n",
       "    </tr>\n",
       "    <tr>\n",
       "      <th>4</th>\n",
       "      <td>3926423286576838657</td>\n",
       "    </tr>\n",
       "  </tbody>\n",
       "</table>\n",
       "</div>"
      ],
      "text/plain": [
       "              Port_IDs\n",
       "0  3925368433214965504\n",
       "1  4002413037164645377\n",
       "2  3923766029921022977\n",
       "3  3994879592543698688\n",
       "4  3926423286576838657"
      ]
     },
     "execution_count": 30,
     "metadata": {},
     "output_type": "execute_result"
    }
   ],
   "source": [
    "df.head()"
   ]
  },
  {
   "cell_type": "code",
   "execution_count": 31,
   "id": "4862b6fc-dc53-410f-9fb2-f6ac8b14f51b",
   "metadata": {},
   "outputs": [
    {
     "name": "stdout",
     "output_type": "stream",
     "text": [
      "   realizedProfit  quantity  std_dev  max_drawdown  side     ROI  PnL  \\\n",
      "0             100        10      1.0            50   BUY  1000.0  100   \n",
      "1             200        20      2.0           100  SELL  1000.0  200   \n",
      "2             -50         5      0.5            20   BUY -1000.0  -50   \n",
      "\n",
      "   Sharpe Ratio  MDD  Win Rate  Win Positions  Total Positions  \n",
      "0        1000.0   50         1              1                1  \n",
      "1         500.0  100         1              0                1  \n",
      "2       -2000.0   20         0              0                1  \n"
     ]
    }
   ],
   "source": [
    "\n",
    "\n",
    "\n",
    "import numpy as np\n",
    "import pandas as pd\n",
    "\n",
    "def calculate_metrics(df):\n",
    "    # Check if necessary columns exist before calculations\n",
    "    required_columns = ['realizedProfit', 'quantity', 'std_dev', 'max_drawdown', 'side']\n",
    "    \n",
    "    missing_columns = [col for col in required_columns if col not in df.columns]\n",
    "    \n",
    "    if missing_columns:\n",
    "        raise KeyError(f\"Missing required columns: {', '.join(missing_columns)}\")\n",
    "    \n",
    "    # Calculate ROI\n",
    "    df['ROI'] = np.where(df['quantity'] != 0, (df['realizedProfit'] / df['quantity']) * 100, 0)\n",
    "    \n",
    "    # Profit and Loss (PnL)\n",
    "    df['PnL'] = df['realizedProfit']\n",
    "    \n",
    "    # Sharpe Ratio, protect against division by zero\n",
    "    df['Sharpe Ratio'] = np.where(df['std_dev'] != 0, df['ROI'] / df['std_dev'], 0)\n",
    "    \n",
    "    # Maximum Drawdown (MDD)\n",
    "    df['MDD'] = df['max_drawdown']\n",
    "    \n",
    "    # Win Rate (1 for profit, 0 for loss)\n",
    "    df['Win Rate'] = np.where(df['realizedProfit'] > 0, 1, 0)\n",
    "    \n",
    "    # Count win positions for BUY trades only\n",
    "    df['Win Positions'] = np.where((df['side'] == 'BUY') & (df['realizedProfit'] > 0), 1, 0)\n",
    "    \n",
    "    # Total Positions count (assumed to be 1 per row)\n",
    "    df['Total Positions'] = 1\n",
    "    \n",
    "    return df\n",
    "\n",
    "# Example usage:\n",
    "data = {\n",
    "    'realizedProfit': [100, 200, -50],\n",
    "    'quantity': [10, 20, 5],\n",
    "    'std_dev': [1, 2, 0.5],\n",
    "    'max_drawdown': [50, 100, 20],\n",
    "    'side': ['BUY', 'SELL', 'BUY']\n",
    "}\n",
    "\n",
    "df = pd.DataFrame(data)\n",
    "\n",
    "try:\n",
    "    df = calculate_metrics(df)\n",
    "    print(df)\n",
    "except KeyError as e:\n",
    "    print(e)\n"
   ]
  },
  {
   "cell_type": "code",
   "execution_count": 32,
   "id": "efc2d8aa-57f4-4187-aa40-368592b7fea7",
   "metadata": {},
   "outputs": [
    {
     "name": "stdout",
     "output_type": "stream",
     "text": [
      "Index(['realizedProfit', 'quantity', 'std_dev', 'max_drawdown', 'side', 'ROI',\n",
      "       'PnL', 'Sharpe Ratio', 'MDD', 'Win Rate', 'Win Positions',\n",
      "       'Total Positions'],\n",
      "      dtype='object')\n",
      "           Port_ID         ROI  PnL  Sharpe Ratio  MDD  Win Rate  \\\n",
      "0  Default_Port_ID  333.333333  250   -166.666667  100  0.666667   \n",
      "\n",
      "   Win Positions  Total Positions  \n",
      "0              1                3  \n"
     ]
    }
   ],
   "source": [
    "\n",
    "import pandas as pd\n",
    "# Print existing columns\n",
    "print(df.columns)\n",
    "\n",
    "# Check if 'Port_ID' exists\n",
    "if 'Port_ID' not in df.columns:\n",
    "    # Assign a default value\n",
    "    df['Port_ID'] = 'Default_Port_ID'\n",
    "\n",
    "# Ensure required columns exist\n",
    "required_columns = ['Port_ID', 'ROI', 'PnL', 'Sharpe Ratio', 'MDD', 'Win Rate', 'Win Positions', 'Total Positions']\n",
    "missing_columns = [col for col in required_columns if col not in df.columns]\n",
    "\n",
    "if missing_columns:\n",
    "    raise KeyError(f\"Missing required columns: {', '.join(missing_columns)}\")\n",
    "\n",
    "# Group by 'Port_ID' and calculate metrics\n",
    "metrics_df = df.groupby('Port_ID').agg({\n",
    "    'ROI': 'mean',\n",
    "    'PnL': 'sum',\n",
    "    'Sharpe Ratio': 'mean',\n",
    "    'MDD': 'max',\n",
    "    'Win Rate': 'mean',\n",
    "    'Win Positions': 'sum',\n",
    "    'Total Positions': 'sum'\n",
    "}).reset_index()\n",
    "\n",
    "print(metrics_df)"
   ]
  },
  {
   "cell_type": "code",
   "execution_count": 37,
   "id": "6b780449-b7bd-40c9-8958-0e2751b173c5",
   "metadata": {},
   "outputs": [
    {
     "data": {
      "image/png": "[encoded data removed]",
      "text/plain": [
       "<Figure size 1200x600 with 2 Axes>"
      ]
     },
     "metadata": {},
     "output_type": "display_data"
    }
   ],
   "source": [
    "\n",
    "# Ranking Algorithm Weights\n",
    "weights = {\n",
    "    'ROI': 0.3,\n",
    "    'Sharpe Ratio': 0.2,\n",
    "    'Win Rate': 0.2,\n",
    "    'Win Positions Ratio': 0.3\n",
    "}\n",
    "\n",
    "# Group by Port_ID and calculate metrics\n",
    "metrics_df = df.groupby('Port_ID').agg({\n",
    "    'ROI': 'mean',\n",
    "    'PnL': 'sum',\n",
    "    'Sharpe Ratio': 'mean',\n",
    "    'MDD': 'max',\n",
    "    'Win Rate': 'mean',\n",
    "    'Win Positions': 'sum',\n",
    "    'Total Positions': 'sum'\n",
    "}).reset_index()\n",
    "\n",
    "# Calculate Score\n",
    "metrics_df['Score'] = (\n",
    "    metrics_df['ROI'] * weights['ROI'] +\n",
    "    metrics_df['Sharpe Ratio'] * weights['Sharpe Ratio'] +\n",
    "    metrics_df['Win Rate'] * weights['Win Rate'] +\n",
    "    (metrics_df['Win Positions'] / metrics_df['Total Positions']) * weights['Win Positions Ratio']\n",
    ")\n",
    "# Rank accounts\n",
    "ranked_df = metrics_df.sort_values('Score', ascending=False).head(20)\n",
    "# Data Visualization\n",
    "plt.figure(figsize=(12, 6))\n",
    "\n",
    "plt.subplot(1, 2, 1)\n",
    "plt.bar(ranked_df['Port_ID'], ranked_df['Score'])\n",
    "plt.xlabel('Port_ID')\n",
    "plt.ylabel('Score')\n",
    "plt.title('Top 20 Accounts by Score')\n",
    "\n",
    "plt.subplot(1, 2, 2)\n",
    "plt.scatter(ranked_df['ROI'], ranked_df['Sharpe Ratio'])\n",
    "plt.xlabel('ROI')\n",
    "plt.ylabel('Sharpe Ratio')\n",
    "plt.title('ROI vs Sharpe Ratio')\n",
    "\n",
    "plt.tight_layout()\n",
    "plt.show()\n",
    "# Save deliverables\n",
    "ranked_df.to_csv('top_20_accounts.csv', index=False)\n",
    "metrics_df.to_csv('calculated_metrics.csv', index=False)\n",
    "# Generate report\n",
    "with open('report.txt', 'w') as f:\n",
    "    f.write('Methodology:\\n')\n",
    "    f.write('1. Data Exploration and Cleaning\\n')\n",
    "    f.write('2. Feature Engineering\\n')\n",
    "    f.write('3. Ranking Algorithm\\n\\n')\n",
    "    \n",
    "    f.write('Findings:\\n')\n",
    "    f.write('Top 20 accounts based on ranking:\\n')\n",
    "    f.write(ranked_df.to_string())\n",
    "    f.write('\\n\\nAssumptions:\\n')\n",
    "    f.write('1. Missing values replaced with 0.\\n')\n",
    "    f.write('2. Weights assigned to metrics based on importance.\\n')\n"
   ]
  },
  {
   "cell_type": "code",
   "execution_count": null,
   "id": "86cd762a-9b48-4e1d-a403-80e026f5978d",
   "metadata": {},
   "outputs": [],
   "source": []
  }
 ],
 "metadata": {
  "kernelspec": {
   "display_name": "Python 3 (ipykernel)",
   "language": "python",
   "name": "python3"
  },
  "language_info": {
   "codemirror_mode": {
    "name": "ipython",
    "version": 3
   },
   "file_extension": ".py",
   "mimetype": "text/x-python",
   "name": "python",
   "nbconvert_exporter": "python",
   "pygments_lexer": "ipython3",
   "version": "3.11.7"
  }
 },
 "nbformat": 4,
 "nbformat_minor": 5
}
